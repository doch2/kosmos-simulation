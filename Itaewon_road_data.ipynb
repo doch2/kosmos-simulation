{
 "cells": [
  {
   "cell_type": "code",
   "execution_count": null,
   "id": "98f256d9",
   "metadata": {},
   "outputs": [],
   "source": [
    "import geopandas as gpd\n",
    "import matplotlib.pyplot as plt"
   ]
  },
  {
   "cell_type": "code",
   "execution_count": null,
   "id": "6a62fc57",
   "metadata": {},
   "outputs": [],
   "source": [
    "data = gpd.read_file('data/seoul_kais_data/Z_KAIS_TL_SPRD_MANAGE_11000.shp', encoding='euc-kr')\n",
    "data_area = gpd.read_file('data/seoul_kais_data/Z_KAIS_TL_KODIS_BAS_11000.shp', encoding='euc-kr')"
   ]
  },
  {
   "cell_type": "code",
   "execution_count": null,
   "id": "6cdceb02",
   "metadata": {},
   "outputs": [],
   "source": [
    "plt.rcParams['figure.figsize']=(10,20)\n",
    "\n",
    "#데이터들 지도로 띄어보기\n",
    "data.plot()\n",
    "plt.show()\n",
    "\n",
    "data_area.plot()\n",
    "plt.show()"
   ]
  },
  {
   "cell_type": "code",
   "execution_count": null,
   "id": "6706d130",
   "metadata": {},
   "outputs": [],
   "source": [
    "data.head()"
   ]
  },
  {
   "cell_type": "code",
   "execution_count": null,
   "id": "ab40d39b",
   "metadata": {},
   "outputs": [],
   "source": [
    "preprocessingRoadData = []\n",
    "\n",
    "for area in (data_area['geometry'])[0:2]:\n",
    "    roadList = data[area.crosses(data['geometry'])]\n",
    "    roadAmount = len(roadList)\n",
    "    #print(roadList.head())\n",
    "\n",
    "    preprocessingRoadList = []\n",
    "    roadWidth = 0\n",
    "    for roadIndex in roadList.index.to_list():\n",
    "        roadWidth = roadWidth + (roadList.loc[roadIndex])['ROAD_BT']\n",
    "        print((roadList.loc[roadIndex])['ROAD_LT'])\n",
    "\n",
    "        \n",
    "\n",
    "        if (roadList.loc[roadIndex])['ROAD_LT'] < 2000:\n",
    "            preprocessingRoadList.append(roadList.loc[roadIndex])\n",
    "        \n",
    "    \n",
    "    roadWidth = roadWidth / roadAmount\n",
    "\n",
    "    roadList.plot()\n",
    "    plt.show()\n",
    "    \n",
    "\n",
    "\n",
    "    if 22 >= len(preprocessingRoadList) >= 15:\n",
    "        preprocessingRoadData.append(preprocessingRoadList)\n",
    "\n",
    "\n",
    "print(\"총 데이터 개수 : \", len(preprocessingRoadData))\n",
    "    "
   ]
  },
  {
   "cell_type": "code",
   "execution_count": null,
   "id": "84446ee9",
   "metadata": {},
   "outputs": [],
   "source": [
    "road = data[data['RN']=='이태원로']\n",
    "road.plot()"
   ]
  },
  {
   "cell_type": "code",
   "execution_count": null,
   "id": "2358f2fa",
   "metadata": {},
   "outputs": [],
   "source": [
    "def isContainPeopleInRoad(peoplePos, roadData):\n",
    "    indexList = roadData.index.to_list()\n",
    "    for roadIndex in indexList: #지도를 구성하는 도로 하나하나 확인\n",
    "        roadWidth = roadData.loc[roadIndex]['ROAD_BT']\n",
    "\n",
    "        posList = list((roadData.loc[roadIndex]['geometry']).coords)\n",
    "        for posIndex in range(0, len(posList)): #도로의 좌표들을 확인\n",
    "            if posList[posIndex] == posList[len(posList)-1]: #마지막 좌표는 확인하지 않음\n",
    "                break\n",
    "            \n",
    "            firstPos = posList[posIndex]\n",
    "            lastPos = posList[posIndex+1]\n",
    "            \n",
    "\n",
    "            #첫번째와 마지막 좌표와 도로폭으로 공간을 계산한 후 사람의 위치가 포함되는지 확인\n",
    "            if firstPos[0] == lastPos[0]: #x좌표가 같은 경우\n",
    "                if firstPos[0] - roadWidth/2 <= peoplePos[0] <= firstPos[0] + roadWidth/2:\n",
    "                    if firstPos[1] <= peoplePos[1] <= lastPos[1] or firstPos[1] >= peoplePos[1] >= lastPos[1]:\n",
    "                        return True\n",
    "            elif firstPos[1] == lastPos[1]: #y좌표가 같은 경우\n",
    "                if firstPos[1] - roadWidth/2 <= peoplePos[1] <= firstPos[1] + roadWidth/2:\n",
    "                    if firstPos[0] <= peoplePos[0] <= lastPos[0] or firstPos[0] >= peoplePos[0] >= lastPos[0]:\n",
    "                        return True\n",
    "            else: #x좌표와 y좌표가 다른 경우\n",
    "                if firstPos[0] - roadWidth/2 <= peoplePos[0] <= firstPos[0] + roadWidth/2:\n",
    "                    if firstPos[1] - roadWidth/2 <= peoplePos[1] <= firstPos[1] + roadWidth/2:\n",
    "                        return True\n",
    "    \n",
    "    return False"
   ]
  },
  {
   "cell_type": "code",
   "execution_count": null,
   "id": "0218c670",
   "metadata": {},
   "outputs": [],
   "source": []
  }
 ],
 "metadata": {
  "kernelspec": {
   "display_name": "Python 3.8.13 ('kosmos')",
   "language": "python",
   "name": "python3"
  },
  "language_info": {
   "codemirror_mode": {
    "name": "ipython",
    "version": 3
   },
   "file_extension": ".py",
   "mimetype": "text/x-python",
   "name": "python",
   "nbconvert_exporter": "python",
   "pygments_lexer": "ipython3",
   "version": "3.8.13"
  },
  "vscode": {
   "interpreter": {
    "hash": "d5620481d51ad6f753dccf5d6aa78dd7fc853733c5620ec60636928b401b2d80"
   }
  }
 },
 "nbformat": 4,
 "nbformat_minor": 5
}
