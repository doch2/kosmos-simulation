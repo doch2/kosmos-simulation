{
 "cells": [
  {
   "cell_type": "code",
   "execution_count": null,
   "id": "98f256d9",
   "metadata": {},
   "outputs": [],
   "source": [
    "import geopandas as gpd\n",
    "import matplotlib.pyplot as plt"
   ]
  },
  {
   "cell_type": "code",
   "execution_count": null,
   "id": "6a62fc57",
   "metadata": {},
   "outputs": [],
   "source": [
    "data = gpd.read_file('data/seoul_kais_data/Z_KAIS_TL_SPRD_MANAGE_11000.shp', encoding='euc-kr')"
   ]
  },
  {
   "cell_type": "code",
   "execution_count": null,
   "id": "6cdceb02",
   "metadata": {},
   "outputs": [],
   "source": [
    "plt.rcParams['figure.figsize']=(10,20)\n",
    "data.plot()\n",
    "plt.show()"
   ]
  },
  {
   "cell_type": "code",
   "execution_count": null,
   "id": "84446ee9",
   "metadata": {},
   "outputs": [],
   "source": [
    "road = data[data['ENG_RN']=='Itaewon-ro 27-gil']\n",
    "road.plot()"
   ]
  },
  {
   "cell_type": "code",
   "execution_count": null,
   "id": "2358f2fa",
   "metadata": {},
   "outputs": [],
   "source": [
    "def isContainPeopleInRoad(peoplePos, roadData):\n",
    "    indexList = roadData.index.to_list()\n",
    "    for roadIndex in indexList: #지도를 구성하는 도로 하나하나 확인\n",
    "        roadWidth = roadData.loc[roadIndex]['ROAD_BT']\n",
    "\n",
    "        posList = list((roadData.loc[roadIndex]['geometry']).coords)\n",
    "        for posIndex in range(0, len(posList)): #도로의 좌표들을 확인\n",
    "            if posList[posIndex] == posList[len(posList)-1]: #마지막 좌표는 확인하지 않음\n",
    "                break\n",
    "            \n",
    "            firstPos = posList[posIndex]\n",
    "            lastPos = posList[posIndex+1]\n",
    "            \n",
    "\n",
    "            #첫번째와 마지막 좌표와 도로폭으로 공간을 계산한 후 사람의 위치가 포함되는지 확인\n",
    "            if firstPos[0] == lastPos[0]: #x좌표가 같은 경우\n",
    "                if firstPos[0] - roadWidth/2 <= peoplePos[0] <= firstPos[0] + roadWidth/2:\n",
    "                    if firstPos[1] <= peoplePos[1] <= lastPos[1] or firstPos[1] >= peoplePos[1] >= lastPos[1]:\n",
    "                        return True\n",
    "            elif firstPos[1] == lastPos[1]: #y좌표가 같은 경우\n",
    "                if firstPos[1] - roadWidth/2 <= peoplePos[1] <= firstPos[1] + roadWidth/2:\n",
    "                    if firstPos[0] <= peoplePos[0] <= lastPos[0] or firstPos[0] >= peoplePos[0] >= lastPos[0]:\n",
    "                        return True\n",
    "            else: #x좌표와 y좌표가 다른 경우\n",
    "                if firstPos[0] - roadWidth/2 <= peoplePos[0] <= firstPos[0] + roadWidth/2:\n",
    "                    if firstPos[1] - roadWidth/2 <= peoplePos[1] <= firstPos[1] + roadWidth/2:\n",
    "                        return True\n",
    "    \n",
    "    return False"
   ]
  },
  {
   "cell_type": "code",
   "execution_count": null,
   "id": "0218c670",
   "metadata": {},
   "outputs": [],
   "source": []
  }
 ],
 "metadata": {
  "kernelspec": {
   "display_name": "Python 3.8.13 ('kosmos')",
   "language": "python",
   "name": "python3"
  },
  "language_info": {
   "codemirror_mode": {
    "name": "ipython",
    "version": 3
   },
   "file_extension": ".py",
   "mimetype": "text/x-python",
   "name": "python",
   "nbconvert_exporter": "python",
   "pygments_lexer": "ipython3",
   "version": "3.8.13"
  },
  "vscode": {
   "interpreter": {
    "hash": "d5620481d51ad6f753dccf5d6aa78dd7fc853733c5620ec60636928b401b2d80"
   }
  }
 },
 "nbformat": 4,
 "nbformat_minor": 5
}
