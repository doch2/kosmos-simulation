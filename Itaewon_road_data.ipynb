{
 "cells": [
  {
   "cell_type": "code",
   "execution_count": null,
   "id": "98f256d9",
   "metadata": {},
   "outputs": [],
   "source": [
    "import geopandas as gpd\n",
    "import pandas as pd\n",
    "import matplotlib.pyplot as plt\n",
    "import seaborn as sns "
   ]
  },
  {
   "cell_type": "code",
   "execution_count": null,
   "id": "6a62fc57",
   "metadata": {},
   "outputs": [],
   "source": [
    "data = gpd.read_file('data/seoul_kais_data/Z_KAIS_TL_SPRD_MANAGE_11000.shp', encoding='euc-kr')\n",
    "data_area = gpd.read_file('data/seoul_kais_data/Z_KAIS_TL_KODIS_BAS_11000.shp', encoding='euc-kr')"
   ]
  },
  {
   "cell_type": "code",
   "execution_count": null,
   "id": "6cdceb02",
   "metadata": {},
   "outputs": [],
   "source": [
    "plt.rcParams['figure.figsize']=(10,20)\n",
    "\n",
    "#데이터들 지도로 띄어보기\n",
    "data.plot()\n",
    "plt.show()\n",
    "\n",
    "data_area.plot()\n",
    "plt.show()"
   ]
  },
  {
   "cell_type": "code",
   "execution_count": null,
   "id": "6706d130",
   "metadata": {},
   "outputs": [],
   "source": [
    "data.head()"
   ]
  },
  {
   "cell_type": "code",
   "execution_count": null,
   "id": "bede1a71",
   "metadata": {},
   "outputs": [],
   "source": [
    "def getRoadCrossAmount(mainRoad, roadList):\n",
    "    crossAmount = 0\n",
    "\n",
    "    for anotherRoad in roadList:\n",
    "        if mainRoad.intersects(anotherRoad):\n",
    "            crossAmount += 1\n",
    "    \n",
    "\n",
    "    return crossAmount"
   ]
  },
  {
   "cell_type": "code",
   "execution_count": null,
   "id": "dfb09eec",
   "metadata": {},
   "outputs": [],
   "source": [
    "def getCenterPosition(road):\n",
    "    return road.centroid"
   ]
  },
  {
   "cell_type": "code",
   "execution_count": null,
   "id": "ab40d39b",
   "metadata": {},
   "outputs": [],
   "source": [
    "preprocessingRoadData = []\n",
    "\n",
    "for area in (data_area['geometry']):\n",
    "    roadList = data[area.crosses(data['geometry'])]\n",
    "\n",
    "    preprocessingRoadList = roadList[(roadList.ROAD_LT < 2000) | (roadList.ROAD_BT < 8)]\n",
    "\n",
    "    \n",
    "\n",
    "    roadCenterPosList = preprocessingRoadList['geometry'].apply(getCenterPosition)\n",
    "    xCenterPos = 0\n",
    "    yCenterPos = 0\n",
    "    for roadCenterPos in roadCenterPosList:\n",
    "        xCenterPos += list(roadCenterPos.coords)[0][0]\n",
    "        yCenterPos += list(roadCenterPos.coords)[0][1]\n",
    "    \n",
    "\n",
    "\n",
    "    if 22 >= len(preprocessingRoadList) >= 15:\n",
    "        xCenterPos /= len(roadCenterPosList)\n",
    "        yCenterPos /= len(roadCenterPosList)\n",
    "\n",
    "        #preprocessingRoadList에 있는 도로들의 좌표를 모두 중심점으로 이동\n",
    "        preprocessingRoadList['geometry'] = preprocessingRoadList['geometry'].translate(xoff=-xCenterPos, yoff=-yCenterPos)\n",
    "\n",
    "        #preprocessingRoadList에 있는 도로들의 crossAmount를 구함\n",
    "        preprocessingRoadList['crossAmount'] = preprocessingRoadList['geometry'].apply(getRoadCrossAmount, roadList=preprocessingRoadList['geometry'])\n",
    "\n",
    "        preprocessingRoadData.append(preprocessingRoadList)\n",
    "\n",
    "\n",
    "print(\"총 데이터 개수 : \", len(preprocessingRoadData))\n",
    "    "
   ]
  },
  {
   "cell_type": "code",
   "execution_count": null,
   "id": "cbb71707",
   "metadata": {},
   "outputs": [],
   "source": [
    "#도로의 폭, 길이, 교차로 개수 분포 그래프 출력 코드\n",
    "\n",
    "\n",
    "roadWidthList = []\n",
    "roadHeightList = []\n",
    "roadCrossList = []\n",
    "\n",
    "for area in (data_area['geometry']):\n",
    "    roadList = data[area.crosses(data['geometry'])]\n",
    "    roadAmount = len(roadList)\n",
    "\n",
    "    roadWidth = 0\n",
    "    roadHeight = 0\n",
    "    roadCross = 0\n",
    "    for roadIndex in roadList.index.to_list():\n",
    "        checkRoad = roadList.loc[roadIndex]\n",
    "\n",
    "        roadWidth = roadWidth + checkRoad['ROAD_BT']\n",
    "        roadHeight = roadHeight + checkRoad['ROAD_LT']\n",
    "        roadCross = roadCross + getRoadCrossAmount(checkRoad['geometry'], roadList['geometry'])\n",
    "\n",
    "    if roadAmount > 0:\n",
    "        roadWidth = roadWidth / roadAmount\n",
    "        roadHeight = roadHeight / roadAmount\n",
    "        roadCross = roadCross / roadAmount\n",
    "\n",
    "        roadWidthList.append(roadWidth)\n",
    "        roadHeightList.append(roadHeight)\n",
    "        roadCrossList.append(roadCross)\n",
    "\n",
    "\n",
    "sns.distplot(roadWidthList, kde=True, rug=True)\n",
    "plt.title(\"Road Width Distribution\")\n",
    "plt.show()    \n",
    "\n",
    "sns.distplot(roadHeightList, kde=True, rug=True)\n",
    "plt.title(\"Road Height Distribution - Original Data\")\n",
    "plt.show()    \n",
    "\n",
    "roadHeightList = list(filter(lambda x: x < 1500, roadHeightList))\n",
    "sns.distplot(roadHeightList, kde=True, rug=True)\n",
    "plt.title(\"Road Height Distribution - Preprocessing Data (<1500)\")\n",
    "plt.show()    \n",
    "\n",
    "sns.distplot(roadCrossList, kde=True, rug=True)\n",
    "plt.title(\"Road Cross Distribution\")\n",
    "plt.show()    "
   ]
  },
  {
   "cell_type": "code",
   "execution_count": null,
   "id": "84446ee9",
   "metadata": {},
   "outputs": [],
   "source": [
    "road = data[data['RN']=='이태원로']\n",
    "road.plot()"
   ]
  },
  {
   "cell_type": "code",
   "execution_count": null,
   "id": "2358f2fa",
   "metadata": {},
   "outputs": [],
   "source": [
    "def isContainPeopleInRoad(peoplePos, roadData):\n",
    "    indexList = roadData.index.to_list()\n",
    "    for roadIndex in indexList: #지도를 구성하는 도로 하나하나 확인\n",
    "        roadWidth = roadData.loc[roadIndex]['ROAD_BT']\n",
    "\n",
    "        posList = list((roadData.loc[roadIndex]['geometry']).coords)\n",
    "        for posIndex in range(0, len(posList)): #도로의 좌표들을 확인\n",
    "            if posList[posIndex] == posList[len(posList)-1]: #마지막 좌표는 확인하지 않음\n",
    "                break\n",
    "            \n",
    "            firstPos = posList[posIndex]\n",
    "            lastPos = posList[posIndex+1]\n",
    "            \n",
    "\n",
    "            #첫번째와 마지막 좌표와 도로폭으로 공간을 계산한 후 사람의 위치가 포함되는지 확인\n",
    "            if firstPos[0] == lastPos[0]: #x좌표가 같은 경우\n",
    "                if firstPos[0] - roadWidth/2 <= peoplePos[0] <= firstPos[0] + roadWidth/2:\n",
    "                    if firstPos[1] <= peoplePos[1] <= lastPos[1] or firstPos[1] >= peoplePos[1] >= lastPos[1]:\n",
    "                        return True\n",
    "            elif firstPos[1] == lastPos[1]: #y좌표가 같은 경우\n",
    "                if firstPos[1] - roadWidth/2 <= peoplePos[1] <= firstPos[1] + roadWidth/2:\n",
    "                    if firstPos[0] <= peoplePos[0] <= lastPos[0] or firstPos[0] >= peoplePos[0] >= lastPos[0]:\n",
    "                        return True\n",
    "            else: #x좌표와 y좌표가 다른 경우\n",
    "                if firstPos[0] - roadWidth/2 <= peoplePos[0] <= firstPos[0] + roadWidth/2:\n",
    "                    if firstPos[1] - roadWidth/2 <= peoplePos[1] <= firstPos[1] + roadWidth/2:\n",
    "                        return True\n",
    "    \n",
    "    return False"
   ]
  },
  {
   "cell_type": "code",
   "execution_count": null,
   "id": "0218c670",
   "metadata": {},
   "outputs": [],
   "source": []
  }
 ],
 "metadata": {
  "kernelspec": {
   "display_name": "Python 3.8.13 ('kosmos')",
   "language": "python",
   "name": "python3"
  },
  "language_info": {
   "codemirror_mode": {
    "name": "ipython",
    "version": 3
   },
   "file_extension": ".py",
   "mimetype": "text/x-python",
   "name": "python",
   "nbconvert_exporter": "python",
   "pygments_lexer": "ipython3",
   "version": "3.8.13"
  },
  "vscode": {
   "interpreter": {
    "hash": "d5620481d51ad6f753dccf5d6aa78dd7fc853733c5620ec60636928b401b2d80"
   }
  }
 },
 "nbformat": 4,
 "nbformat_minor": 5
}
